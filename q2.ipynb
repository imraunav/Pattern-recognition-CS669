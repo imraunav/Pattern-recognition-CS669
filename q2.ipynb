{
  "cells": [
    {
      "cell_type": "markdown",
      "metadata": {
        "id": "view-in-github",
        "colab_type": "text"
      },
      "source": [
        "<a href=\"https://colab.research.google.com/github/imraunav/pattern-recognition/blob/main/q2.ipynb\" target=\"_parent\"><img src=\"https://colab.research.google.com/assets/colab-badge.svg\" alt=\"Open In Colab\"/></a>"
      ]
    },
    {
      "cell_type": "markdown",
      "metadata": {
        "id": "3c90f96e-4246-47c8-a22e-c3e88a09e2ce"
      },
      "source": [
        "# Importing libraries"
      ],
      "id": "3c90f96e-4246-47c8-a22e-c3e88a09e2ce"
    },
    {
      "cell_type": "code",
      "execution_count": 1,
      "metadata": {
        "id": "bbe3fb89-b19c-479c-babb-179b917738b0"
      },
      "outputs": [],
      "source": [
        "import numpy as np\n",
        "from matplotlib import pyplot as plt"
      ],
      "id": "bbe3fb89-b19c-479c-babb-179b917738b0"
    },
    {
      "cell_type": "code",
      "execution_count": 2,
      "metadata": {
        "colab": {
          "base_uri": "https://localhost:8080/"
        },
        "id": "eCvu0iZGXdah",
        "outputId": "ed380648-8ef9-4c10-99e2-49102659cb43"
      },
      "outputs": [
        {
          "output_type": "stream",
          "name": "stdout",
          "text": [
            "Drive already mounted at /drive; to attempt to forcibly remount, call drive.mount(\"/drive\", force_remount=True).\n"
          ]
        }
      ],
      "source": [
        "from google.colab import drive\n",
        "drive.mount('/drive')"
      ],
      "id": "eCvu0iZGXdah"
    },
    {
      "cell_type": "markdown",
      "metadata": {
        "id": "ae885277-fe9b-4c88-bd39-f81142aa7a4a"
      },
      "source": [
        "# Importing Datasets"
      ],
      "id": "ae885277-fe9b-4c88-bd39-f81142aa7a4a"
    },
    {
      "cell_type": "code",
      "execution_count": 3,
      "metadata": {
        "id": "a3c73eef-786d-48b4-8279-b881021aeffa"
      },
      "outputs": [],
      "source": [
        "path = '/drive/My Drive/Semester_1/pattern_recognition_cs669/assignment_1/q2/'\n",
        "with open(path + 'l_class1.txt', mode = 'r') as file:\n",
        "    file_data = file.read()\n",
        "    l_class_1_features = np.array([list(map(float, x.split())) for x in file_data.splitlines()])\n",
        "# print(class_1_features)\n",
        "\n",
        "with open(path + 'l_class2.txt', mode = 'r') as file:\n",
        "    file_data = file.read()\n",
        "    l_class_2_features = np.array([list(map(float, x.split())) for x in file_data.splitlines()])\n",
        "# print(class_2_features)\n",
        "\n",
        "with open(path + 'l_class3.txt', mode = 'r') as file:\n",
        "    file_data = file.read()\n",
        "    l_class_3_features = np.array([list(map(float, x.split())) for x in file_data.splitlines()])\n",
        "# print(class_3_features)"
      ],
      "id": "a3c73eef-786d-48b4-8279-b881021aeffa"
    },
    {
      "cell_type": "code",
      "execution_count": 4,
      "metadata": {
        "id": "84d6a8f9-1aeb-41e9-a1e6-6e3f537efb53"
      },
      "outputs": [],
      "source": [
        "with open(path + 'nl_class1.txt', mode = 'r') as file:\n",
        "    file_data = file.read()\n",
        "    nl_class_1_features = np.array([list(map(float, x.split())) for x in file_data.splitlines()])\n",
        "# print(class_1_features)\n",
        "with open(path + 'nl_class2.txt', mode = 'r') as file:\n",
        "    file_data = file.read()\n",
        "    nl_class_2_features = np.array([list(map(float, x.split())) for x in file_data.splitlines()])\n",
        "# print(class_1_features)\n",
        "with open(path + 'nl_class3.txt', mode = 'r') as file:\n",
        "    file_data = file.read()\n",
        "    nl_class_3_features = np.array([list(map(float, x.split())) for x in file_data.splitlines()])\n",
        "# print(class_1_features)"
      ],
      "id": "84d6a8f9-1aeb-41e9-a1e6-6e3f537efb53"
    },
    {
      "cell_type": "markdown",
      "metadata": {
        "id": "a40Pjv5Ia0c2"
      },
      "source": [
        "# Some definations and calculation functions"
      ],
      "id": "a40Pjv5Ia0c2"
    },
    {
      "cell_type": "code",
      "execution_count": 5,
      "metadata": {
        "id": "71dae0ad-31c5-4777-955e-7159f3febe15"
      },
      "outputs": [],
      "source": [
        "dpi = 150 #increasing this value increases computation time, be careful\n",
        "cmap = 'rainbow'\n",
        "alpha = 0.5"
      ],
      "id": "71dae0ad-31c5-4777-955e-7159f3febe15"
    },
    {
      "cell_type": "code",
      "execution_count": 6,
      "metadata": {
        "id": "d521d7fc-0739-4161-86e6-84284462c8b6"
      },
      "outputs": [],
      "source": [
        "# multivariate class conditional density function \n",
        "def gaussian_ccd(x_, mean_, cov_m):\n",
        "    x = np.reshape(x_, newshape = (2, 1))\n",
        "    mean = np.reshape(mean_, newshape = (2, 1))\n",
        "    inv_cov_m = np.linalg.inv(cov_m)\n",
        "    det_cov_m = np.linalg.det(cov_m)\n",
        "    ex = np.exp(-0.5 * np.matmul((x - mean).T, np.matmul(inv_cov_m, (x - mean))))\n",
        "    return (1/(((2 * np.pi) ** (len(x)/2)) * det_cov_m)) * ex"
      ],
      "id": "d521d7fc-0739-4161-86e6-84284462c8b6"
    },
    {
      "cell_type": "code",
      "execution_count": 7,
      "metadata": {
        "id": "7c859b35-bd80-4383-b825-c02b1d99d6ba"
      },
      "outputs": [],
      "source": [
        "def coordinates(data):\n",
        "    return [x for x, y in data], [y for x, y in data]"
      ],
      "id": "7c859b35-bd80-4383-b825-c02b1d99d6ba"
    },
    {
      "cell_type": "code",
      "execution_count": 8,
      "metadata": {
        "id": "ee98a8dd-4a46-4057-9c2a-e2c7cca8b8ae"
      },
      "outputs": [],
      "source": [
        "def class_divider(features, gt):\n",
        "    class1 = [x for i, x in enumerate(features) if gt[i] == 1]\n",
        "    class2 = [x for i, x in enumerate(features) if gt[i] == 2]\n",
        "    class3 = [x for i, x in enumerate(features) if gt[i] == 3]\n",
        "    return class1, class2, class3"
      ],
      "id": "ee98a8dd-4a46-4057-9c2a-e2c7cca8b8ae"
    },
    {
      "cell_type": "code",
      "execution_count": 9,
      "metadata": {
        "id": "922e3e86-0aa1-47e6-8a86-41607511ff5e"
      },
      "outputs": [],
      "source": [
        "def confusion_mat(pred, actual):\n",
        "    conf_mat = np.array([[0, 0, 0], [0, 0, 0], [0, 0, 0]])\n",
        "    for i in range(len(pred)):\n",
        "      # conf_mat[pred[i] -1][actual[i]-1] += 1\n",
        "        #pred class 1\n",
        "        if pred[i] == 1 and actual[i] == 1:\n",
        "            conf_mat[0][0] += 1\n",
        "        elif pred[i] == 1 and actual[i] == 2:\n",
        "            conf_mat[0][1] += 1\n",
        "        elif pred[i] == 1 and actual[i] == 3:\n",
        "            conf_mat[0][2] += 1\n",
        "        # pred class 2\n",
        "        elif pred[i] == 2 and actual[i] == 1:\n",
        "            conf_mat[1][0] += 1\n",
        "        elif pred[i] == 2 and actual[i] == 2:\n",
        "            conf_mat[1][1] += 1\n",
        "        elif pred[i] == 2 and actual[i] == 3:\n",
        "            conf_mat[1][2] += 1\n",
        "        #pred class 3\n",
        "        elif pred[i] == 3 and actual[i] == 1:\n",
        "            conf_mat[2][0] += 1\n",
        "        elif pred[i] == 3 and actual[i] == 2:\n",
        "            conf_mat[2][1] += 1\n",
        "        elif pred[i] == 3 and actual[i] == 3:\n",
        "            conf_mat[2][2] += 1\n",
        "    \n",
        "    return conf_mat"
      ],
      "id": "922e3e86-0aa1-47e6-8a86-41607511ff5e"
    },
    {
      "cell_type": "code",
      "execution_count": 10,
      "metadata": {
        "id": "01ab8773-e140-49dc-b82e-42cfd4a8be66"
      },
      "outputs": [],
      "source": [
        "def accuracy(conf_mat):\n",
        "    correct_pred = conf_mat[0][0] + conf_mat[1][1] + conf_mat[2][2]\n",
        "    total_pred = np.sum(conf_mat)\n",
        "    return correct_pred/total_pred"
      ],
      "id": "01ab8773-e140-49dc-b82e-42cfd4a8be66"
    },
    {
      "cell_type": "code",
      "execution_count": 11,
      "metadata": {
        "id": "1ecc2631-64af-42ba-ae57-891d7ff31da3"
      },
      "outputs": [],
      "source": [
        "def precision(conf_mat):\n",
        "    # prec_1 = conf_mat[0][0]/(conf_mat[0][0] + conf_mat[1][0] + conf_mat[2][0])\n",
        "    prec_1 = conf_mat[0][0]/(conf_mat[0][0] + conf_mat[0][1] + conf_mat[0][2])\n",
        "    prec_2 = conf_mat[1][1]/(conf_mat[1][0] + conf_mat[1][1] + conf_mat[1][2])\n",
        "    prec_3 = conf_mat[2][2]/(conf_mat[2][2] + conf_mat[2][1] + conf_mat[2][0])\n",
        "    return (prec_1 + prec_2 + prec_3) / 3"
      ],
      "id": "1ecc2631-64af-42ba-ae57-891d7ff31da3"
    },
    {
      "cell_type": "code",
      "execution_count": 12,
      "metadata": {
        "id": "8d8bd46c-cceb-4566-b2f9-1501a5621d62"
      },
      "outputs": [],
      "source": [
        "def recall(conf_mat):\n",
        "    r_1 = conf_mat[0][0] / (conf_mat[0][0]+ conf_mat[1][0] + conf_mat[2][0])\n",
        "    r_2 = conf_mat[1][1] / (conf_mat[1][1]+ conf_mat[0][1] + conf_mat[2][1])\n",
        "    r_3 = conf_mat[2][2] / (conf_mat[2][2]+ conf_mat[0][2] + conf_mat[1][2])\n",
        "    return (r_1 + r_2 + r_3) / 3"
      ],
      "id": "8d8bd46c-cceb-4566-b2f9-1501a5621d62"
    },
    {
      "cell_type": "code",
      "execution_count": 13,
      "metadata": {
        "id": "30c2f11b-7573-462f-9d66-7f97710ba010"
      },
      "outputs": [],
      "source": [
        "def f_score(conf_mat):\n",
        "  # f_score_1 = (2 * conf_mat[0][0]) / (3)\n",
        "  return 2/(1 / precision(conf_mat) + 1/ recall(conf_mat))"
      ],
      "id": "30c2f11b-7573-462f-9d66-7f97710ba010"
    },
    {
      "cell_type": "markdown",
      "metadata": {
        "id": "8c379140-3590-4245-a2cf-bcec7a81e1ac"
      },
      "source": [
        "# Data splitting"
      ],
      "id": "8c379140-3590-4245-a2cf-bcec7a81e1ac"
    },
    {
      "cell_type": "code",
      "execution_count": 14,
      "metadata": {
        "id": "dc5095f1-473a-42b5-85bb-51d7b2b6b102"
      },
      "outputs": [],
      "source": [
        "# np.random.shuffle(l_class_1_features)\n",
        "l_class_1_train = l_class_1_features[ : len(l_class_1_features)//2]\n",
        "l_class_1_test = l_class_1_features[len(l_class_1_features)//2 : ]\n",
        "# np.random.shuffle(l_class_2_features)\n",
        "l_class_2_train = l_class_2_features[ : len(l_class_2_features)//2]\n",
        "l_class_2_test = l_class_2_features[len(l_class_2_features)//2 : ]\n",
        "# np.random.shuffle(l_class_3_features)\n",
        "l_class_3_train = l_class_3_features[ : len(l_class_3_features)//2]\n",
        "l_class_3_test = l_class_3_features[len(l_class_3_features)//2 : ]\n",
        "\n",
        "# np.random.shuffle(nl_class_1_features)\n",
        "nl_class_1_train = nl_class_1_features[ : len(nl_class_1_features)//2]\n",
        "nl_class_1_test = nl_class_1_features[len(nl_class_1_features)//2 : ]\n",
        "# np.random.shuffle(nl_class_2_features)\n",
        "nl_class_2_train = nl_class_2_features[ : len(nl_class_2_features)//2]\n",
        "nl_class_2_test = nl_class_2_features[len(nl_class_2_features)//2 : ]\n",
        "# np.random.shuffle(nl_class_3_features)\n",
        "nl_class_3_train = nl_class_3_features[ : len(nl_class_3_features)//2]\n",
        "nl_class_3_test = nl_class_3_features[len(nl_class_3_features)//2 : ]"
      ],
      "id": "dc5095f1-473a-42b5-85bb-51d7b2b6b102"
    },
    {
      "cell_type": "code",
      "execution_count": 15,
      "metadata": {
        "id": "7add2796-4fe8-4b02-8e90-88725a940666"
      },
      "outputs": [],
      "source": [
        "l_class_1_x, l_class_1_y = coordinates(l_class_1_train)\n",
        "l_class_2_x, l_class_2_y = coordinates(l_class_2_train)\n",
        "l_class_3_x, l_class_3_y = coordinates(l_class_3_train)\n",
        "\n",
        "nl_class_1_x, nl_class_1_y = coordinates(nl_class_1_train)\n",
        "nl_class_2_x, nl_class_2_y = coordinates(nl_class_2_train)\n",
        "nl_class_3_x, nl_class_3_y = coordinates(nl_class_3_train)"
      ],
      "id": "7add2796-4fe8-4b02-8e90-88725a940666"
    },
    {
      "cell_type": "code",
      "execution_count": 16,
      "metadata": {
        "colab": {
          "base_uri": "https://localhost:8080/",
          "height": 298
        },
        "id": "d00027e0-097c-480b-9464-56644346ef27",
        "outputId": "e0cf2ee0-4332-4f78-f516-9e4aae07a4c5"
      },
      "outputs": [
        {
          "output_type": "execute_result",
          "data": {
            "text/plain": [
              "<matplotlib.legend.Legend at 0x7f32b62a8c90>"
            ]
          },
          "metadata": {},
          "execution_count": 16
        },
        {
          "output_type": "display_data",
          "data": {
            "text/plain": [
              "<Figure size 432x288 with 1 Axes>"
            ],
            "image/png": "[encoded data removed]"
          },
          "metadata": {
            "needs_background": "light"
          }
        }
      ],
      "source": [
        "plt.scatter(l_class_1_x, l_class_1_y, label = \"Class 1\", marker = '+')\n",
        "plt.scatter(l_class_2_x, l_class_2_y, label = 'Class 2', marker = '^')\n",
        "plt.scatter(l_class_3_x, l_class_3_y, label = 'Class 3', marker = '*')\n",
        "plt.title('Linearly seperable classes(Training data)')\n",
        "plt.legend()"
      ],
      "id": "d00027e0-097c-480b-9464-56644346ef27"
    },
    {
      "cell_type": "code",
      "execution_count": 17,
      "metadata": {
        "colab": {
          "base_uri": "https://localhost:8080/",
          "height": 298
        },
        "id": "2d33e959-79dc-4123-8684-978c334392d4",
        "outputId": "e3051b7f-50d3-46ee-f6ce-a4559e348fb9"
      },
      "outputs": [
        {
          "output_type": "execute_result",
          "data": {
            "text/plain": [
              "<matplotlib.legend.Legend at 0x7f32b5d4ed10>"
            ]
          },
          "metadata": {},
          "execution_count": 17
        },
        {
          "output_type": "display_data",
          "data": {
            "text/plain": [
              "<Figure size 432x288 with 1 Axes>"
            ],
            "image/png": "[encoded data removed]"
          },
          "metadata": {
            "needs_background": "light"
          }
        }
      ],
      "source": [
        "plt.scatter(nl_class_1_x, nl_class_1_y, label = \"Class 1\", marker = '+')\n",
        "plt.scatter(nl_class_2_x, nl_class_2_y, label = 'Class 2', marker = '^')\n",
        "plt.scatter(nl_class_3_x, nl_class_3_y, label = 'Class 3', marker = '*')\n",
        "plt.title('Non-Linearly seperable classes(Training data)')\n",
        "plt.legend()"
      ],
      "id": "2d33e959-79dc-4123-8684-978c334392d4"
    },
    {
      "cell_type": "markdown",
      "metadata": {
        "id": "cec07b16-a7dc-4370-8ffa-63dee23a61ec"
      },
      "source": [
        "### Ground truth for test data"
      ],
      "id": "cec07b16-a7dc-4370-8ffa-63dee23a61ec"
    },
    {
      "cell_type": "code",
      "execution_count": 18,
      "metadata": {
        "id": "117b15f7-8d4b-4b1a-8c28-851e37b44171"
      },
      "outputs": [],
      "source": [
        "gt_l = [1]*len(l_class_1_test) + [2]*len(l_class_2_test) + [3]*len(l_class_3_test)\n",
        "test_features_l = np.concatenate((l_class_1_test, l_class_2_test, l_class_3_test))\n",
        "\n",
        "gt_nl = [1]*len(nl_class_1_test) + [2]*len(nl_class_2_test) + [3]*len(nl_class_3_test)\n",
        "test_features_nl = np.concatenate((nl_class_1_test, nl_class_2_test, nl_class_3_test))"
      ],
      "id": "117b15f7-8d4b-4b1a-8c28-851e37b44171"
    },
    {
      "cell_type": "code",
      "execution_count": 19,
      "metadata": {
        "id": "b19de356-fe6b-48c0-a184-e5dd584c128a"
      },
      "outputs": [],
      "source": [
        "# train_features_l_x, train_features_l_y = coordinates(train_features_l)\n",
        "\n",
        "# train_features_nl_x, train_features_l_y = coordinates(train_features_nl)"
      ],
      "id": "b19de356-fe6b-48c0-a184-e5dd584c128a"
    },
    {
      "cell_type": "markdown",
      "metadata": {
        "id": "17d7ab45-8074-430e-99e2-9ebcc5ef6d40"
      },
      "source": [
        "### Some constants from data"
      ],
      "id": "17d7ab45-8074-430e-99e2-9ebcc5ef6d40"
    },
    {
      "cell_type": "code",
      "execution_count": 20,
      "metadata": {
        "id": "831dbece-faa1-436d-b132-8853bf8a8283"
      },
      "outputs": [],
      "source": [
        "mean_class_1_l = np.mean(l_class_1_train, axis = 0)\n",
        "mean_class_2_l = np.mean(l_class_2_train, axis = 0)\n",
        "mean_class_3_l = np.mean(l_class_3_train, axis = 0)\n",
        "\n",
        "mean_class_1_nl = np.mean(nl_class_1_train, axis = 0)\n",
        "mean_class_2_nl = np.mean(nl_class_2_train, axis = 0)\n",
        "mean_class_3_nl = np.mean(nl_class_3_train, axis = 0)\n",
        "\n",
        "prior_class_1_l = gt_l.count(1)/len(gt_l)\n",
        "prior_class_2_l = gt_l.count(2)/len(gt_l)\n",
        "prior_class_3_l = gt_l.count(3)/len(gt_l)\n",
        "\n",
        "prior_class_1_nl = gt_nl.count(1)/len(gt_nl)\n",
        "prior_class_2_nl = gt_nl.count(2)/len(gt_nl)\n",
        "prior_class_3_nl = gt_nl.count(3)/len(gt_nl)"
      ],
      "id": "831dbece-faa1-436d-b132-8853bf8a8283"
    },
    {
      "cell_type": "markdown",
      "metadata": {
        "id": "SNTrI7D0lXz0"
      },
      "source": [
        "# Bayes classifers"
      ],
      "id": "SNTrI7D0lXz0"
    },
    {
      "cell_type": "markdown",
      "metadata": {
        "id": "f57279bb-7d55-4bbe-aa7c-fc235321d224"
      },
      "source": [
        "## Linearly seperable features"
      ],
      "id": "f57279bb-7d55-4bbe-aa7c-fc235321d224"
    },
    {
      "cell_type": "markdown",
      "metadata": {
        "id": "e392f9f1-c9b4-4e2b-aba8-0d25ae843be3"
      },
      "source": [
        "### Classifier 1\n",
        "C1: Covariance for all classes is $I\\sigma^{2}$. Use the average of the sample variances for all dimensions, for all classes, from the training data as $\\sigma^{2}$."
      ],
      "id": "e392f9f1-c9b4-4e2b-aba8-0d25ae843be3"
    },
    {
      "cell_type": "code",
      "execution_count": 21,
      "metadata": {
        "colab": {
          "base_uri": "https://localhost:8080/"
        },
        "id": "51de3752-c811-41b3-bbcd-187ea56a92fb",
        "outputId": "69e1259b-792b-4d1d-f362-e1f139fc2969"
      },
      "outputs": [
        {
          "output_type": "stream",
          "name": "stdout",
          "text": [
            "Covariance matrix =\n",
            "[[5.77034986 0.        ]\n",
            " [0.         5.76251899]]\n"
          ]
        }
      ],
      "source": [
        "var_class_1 = np.var(l_class_1_train, axis = 0, dtype = np.float64)\n",
        "var_class_2 = np.var(l_class_2_train, axis = 0, dtype = np.float64)\n",
        "var_class_3 = np.var(l_class_3_train, axis = 0, dtype = np.float64)\n",
        "\n",
        "avg_var = (var_class_1 + var_class_2 + var_class_3) / 3\n",
        "cov_classifier_1 = np.identity(2)* avg_var\n",
        "print(f'Covariance matrix =\\n{cov_classifier_1}')\n"
      ],
      "id": "51de3752-c811-41b3-bbcd-187ea56a92fb"
    },
    {
      "cell_type": "code",
      "execution_count": 22,
      "metadata": {
        "id": "f5139508-0186-450e-8465-dc1c0b43d1c9"
      },
      "outputs": [],
      "source": [
        "def classifier_1(features, mean_set, prior_set, cov_m): #here x is the feature vector\n",
        "    pred = []\n",
        "    for x in features:\n",
        "        evidence = gaussian_ccd(x, mean_set[0], cov_m) * prior_set[0] +  gaussian_ccd(x, mean_set[1], cov_m) * prior_set[1] +  gaussian_ccd(x, mean_set[2], cov_m) * prior_set[2]\n",
        "        posterior_class_1 = gaussian_ccd(x, mean_set[0], cov_m) * prior_set[0] / evidence\n",
        "        posterior_class_2 = gaussian_ccd(x, mean_set[1], cov_m) * prior_set[1] / evidence\n",
        "        posterior_class_3 = gaussian_ccd(x, mean_set[2], cov_m) * prior_set[2] / evidence \n",
        "        \n",
        "        classify = np.argmax([posterior_class_1, posterior_class_2, posterior_class_3]) \n",
        "        pred.append(classify + 1)\n",
        "    return pred"
      ],
      "id": "f5139508-0186-450e-8465-dc1c0b43d1c9"
    },
    {
      "cell_type": "code",
      "execution_count": 23,
      "metadata": {
        "colab": {
          "base_uri": "https://localhost:8080/"
        },
        "id": "7fe55f35-5600-43da-9844-42defab00ed7",
        "outputId": "7123dfca-9f9a-43d7-fd3c-d670b483c2fe"
      },
      "outputs": [
        {
          "output_type": "stream",
          "name": "stdout",
          "text": [
            "Confusion matrix = \n",
            "[[250   0   0]\n",
            " [  0 250   0]\n",
            " [  0   0 250]]\n",
            "Classifier ferformance for linearly seperable dataset\n",
            "Accuracy = 1.0\n",
            "Precision = 1.0\n",
            "Recall = 1.0\n",
            "F-Score = 1.0\n"
          ]
        }
      ],
      "source": [
        "#for linear data\n",
        "mean_set = [mean_class_1_l, mean_class_2_l, mean_class_3_l]\n",
        "prior_set = [prior_class_1_l, prior_class_2_l, prior_class_3_l]\n",
        "\n",
        "pred_l_classifier_1 = classifier_1(test_features_l, mean_set, prior_set, cov_classifier_1)\n",
        "\n",
        "confusion_matrix_classifier_1 = confusion_mat(pred_l_classifier_1, gt_l)\n",
        "\n",
        "# mean_set, prior_set\n",
        "accuracy_classifier_1 = accuracy(confusion_matrix_classifier_1)\n",
        "precision_classifier_1 = precision(confusion_matrix_classifier_1)\n",
        "recall_classifier_1 = recall(confusion_matrix_classifier_1)\n",
        "f_score_classifier_1 = f_score(confusion_matrix_classifier_1)\n",
        "# #incorrect results, verify the classificaton and the metric calculation functions\n",
        "print(f'Confusion matrix = \\n{confusion_matrix_classifier_1}')\n",
        "print(f'Classifier ferformance for linearly seperable dataset\\nAccuracy = {accuracy_classifier_1}\\nPrecision = {precision_classifier_1}\\nRecall = {recall_classifier_1}\\nF-Score = {f_score_classifier_1}')\n"
      ],
      "id": "7fe55f35-5600-43da-9844-42defab00ed7"
    },
    {
      "cell_type": "code",
      "execution_count": 24,
      "metadata": {
        "colab": {
          "base_uri": "https://localhost:8080/"
        },
        "id": "4c65f0ed-103f-4e96-815c-d53c7c688522",
        "outputId": "cc7ed711-a27d-493f-c5e1-8c4a4ef1cf43"
      },
      "outputs": [
        {
          "output_type": "execute_result",
          "data": {
            "text/plain": [
              "(-9.3855, 21.459, -13.225, 16.217)"
            ]
          },
          "metadata": {},
          "execution_count": 24
        }
      ],
      "source": [
        "class_x1, class_y1 = coordinates(l_class_1_test)\n",
        "class_x2, class_y2 = coordinates(l_class_2_test)\n",
        "class_x3, class_y3 = coordinates(l_class_3_test)\n",
        "\n",
        "min_x = min([min(class_x1), min(class_x2), min(class_x3)])\n",
        "max_x = max([max(class_x1), max(class_x2), max(class_x3)])\n",
        "\n",
        "min_y = min([min(class_y1), min(class_y2), min(class_y3)])\n",
        "max_y = max([max(class_y1), max(class_y2), max(class_y3)])\n",
        "\n",
        "xx, yy = np.meshgrid(np.linspace(min_x - 1, max_x + 1 , dpi), np.linspace(min_y - 1, max_y + 1, dpi)) # creates a mesh of points in space \n",
        "mesh_features_x = np.array([[x, 0] for x in xx.ravel()])\n",
        "mesh_features_y = np.array([[0, y] for y in yy.ravel()])\n",
        "mesh_features = mesh_features_x + mesh_features_y\n",
        "z = np.array(classifier_1(mesh_features, mean_set, prior_set, cov_classifier_1))\n",
        "z = z.reshape(xx.shape)\n",
        "\n",
        "min_x, max_x, min_y, max_y"
      ],
      "id": "4c65f0ed-103f-4e96-815c-d53c7c688522"
    },
    {
      "cell_type": "code",
      "execution_count": 25,
      "metadata": {
        "colab": {
          "base_uri": "https://localhost:8080/",
          "height": 297
        },
        "id": "7b554099-a5af-471d-a274-b59565a1106a",
        "outputId": "f7e06dc6-f93e-4878-af9d-b3b70aa02289"
      },
      "outputs": [
        {
          "output_type": "display_data",
          "data": {
            "text/plain": [
              "<Figure size 432x288 with 1 Axes>"
            ],
            "image/png": "[encoded data removed]"
          },
          "metadata": {
            "needs_background": "light"
          }
        }
      ],
      "source": [
        "plt.contourf(xx, yy, z, alpha = alpha, cmap = cmap)\n",
        "plt.scatter(class_x1, class_y1, label = 'Class 1', marker = '+')\n",
        "plt.scatter(class_x2, class_y2, label = 'Class 2', marker = '^')\n",
        "plt.scatter(class_x3, class_y3, label = 'Class 3', marker = '*')\n",
        "plt.title('Decision boundary given by classifier 1')\n",
        "plt.legend()\n",
        "plt.tight_layout(rect = [0, 0, 1, 1])"
      ],
      "id": "7b554099-a5af-471d-a274-b59565a1106a"
    },
    {
      "cell_type": "markdown",
      "metadata": {
        "id": "26bd782e-b4f5-41ff-81dc-2e32ee59f914"
      },
      "source": [
        "### Classifier 2\n",
        "C2: Full but equal covariance for all classes, $\\Sigma$. Use the average of the sample covariance matrix from all classes in the train data as $\\Sigma$."
      ],
      "id": "26bd782e-b4f5-41ff-81dc-2e32ee59f914"
    },
    {
      "cell_type": "code",
      "execution_count": 26,
      "metadata": {
        "colab": {
          "base_uri": "https://localhost:8080/"
        },
        "id": "cfe627a7-8835-4e0e-95f0-39c3d3571da0",
        "outputId": "f30a5d7e-c2cb-48d5-c808-b7b0e9553198"
      },
      "outputs": [
        {
          "output_type": "stream",
          "name": "stdout",
          "text": [
            "Covariance matrix =\n",
            "[[ 5.79352396 -1.59399547]\n",
            " [-1.59399547  5.78566164]]\n"
          ]
        }
      ],
      "source": [
        "cov_class_1 = np.cov(l_class_1_train.T)\n",
        "cov_class_2 = np.cov(l_class_2_train.T)\n",
        "cov_class_3 = np.cov(l_class_3_train.T)\n",
        "\n",
        "cov_classifier_2 = (cov_class_1 + cov_class_2 + cov_class_3) / 3\n",
        "print(f'Covariance matrix =\\n{cov_classifier_2}')"
      ],
      "id": "cfe627a7-8835-4e0e-95f0-39c3d3571da0"
    },
    {
      "cell_type": "code",
      "execution_count": 27,
      "metadata": {
        "id": "92a8f248-127d-4dec-af97-85cc0acb0241"
      },
      "outputs": [],
      "source": [
        "def classifier_2(features, mean_set, prior_set, cov_m): #here x is the feature vector\n",
        "    pred = []\n",
        "    for x in features:\n",
        "        evidence = gaussian_ccd(x, mean_set[0], cov_m) * prior_set[0] +  gaussian_ccd(x, mean_set[1], cov_m) * prior_set[1] +  gaussian_ccd(x, mean_set[2], cov_m) * prior_set[2]\n",
        "        posterior_class_1 = gaussian_ccd(x, mean_set[0], cov_m) * prior_set[0] / evidence\n",
        "        posterior_class_2 = gaussian_ccd(x, mean_set[1], cov_m) * prior_set[1] / evidence\n",
        "        posterior_class_3 = gaussian_ccd(x, mean_set[2], cov_m) * prior_set[2] / evidence \n",
        "        \n",
        "        classify = np.argmax([posterior_class_1, posterior_class_2, posterior_class_3]) \n",
        "        pred.append(classify + 1)\n",
        "    return pred"
      ],
      "id": "92a8f248-127d-4dec-af97-85cc0acb0241"
    },
    {
      "cell_type": "code",
      "execution_count": 28,
      "metadata": {
        "colab": {
          "base_uri": "https://localhost:8080/"
        },
        "id": "05fb3b2f-2caf-4e5a-8656-ffd642e1ba71",
        "outputId": "a275c57f-24de-4a67-a3d0-5d55eb90d469"
      },
      "outputs": [
        {
          "output_type": "stream",
          "name": "stdout",
          "text": [
            "Confusion matrix = \n",
            "[[250   0   0]\n",
            " [  0 250   0]\n",
            " [  0   0 250]]\n",
            "Classifier ferformance for linearly seperable dataset\n",
            "Accuracy = 1.0\n",
            "Precision = 1.0\n",
            "Recall = 1.0\n",
            "F-Score = 1.0\n"
          ]
        }
      ],
      "source": [
        "#for linear data\n",
        "mean_set = [mean_class_1_l, mean_class_2_l, mean_class_3_l]\n",
        "prior_set = [prior_class_1_l, prior_class_2_l, prior_class_3_l]\n",
        "\n",
        "pred_l_classifier_2 = classifier_2(test_features_l, mean_set, prior_set, cov_classifier_2)\n",
        "\n",
        "confusion_matrix_classifier_2 = confusion_mat(pred_l_classifier_2, gt_l)\n",
        "\n",
        "# mean_set, prior_set\n",
        "accuracy_classifier_2 = accuracy(confusion_matrix_classifier_2)\n",
        "precision_classifier_2 = precision(confusion_matrix_classifier_2)\n",
        "recall_classifier_2 = recall(confusion_matrix_classifier_2)\n",
        "f_score_classifier_2 = f_score(confusion_matrix_classifier_2)\n",
        "# #incorrect results, verify the classificaton and the metric calculation functions\n",
        "print(f'Confusion matrix = \\n{confusion_matrix_classifier_2}')\n",
        "print(f'Classifier ferformance for linearly seperable dataset\\nAccuracy = {accuracy_classifier_2}\\nPrecision = {precision_classifier_2}\\nRecall = {recall_classifier_2}\\nF-Score = {f_score_classifier_2}')\n"
      ],
      "id": "05fb3b2f-2caf-4e5a-8656-ffd642e1ba71"
    },
    {
      "cell_type": "code",
      "execution_count": 29,
      "metadata": {
        "id": "031d6111-e1cc-40c9-83e8-b55034fd104b"
      },
      "outputs": [],
      "source": [
        "class_x1, class_y1 = coordinates(l_class_1_test)\n",
        "class_x2, class_y2 = coordinates(l_class_2_test)\n",
        "class_x3, class_y3 = coordinates(l_class_3_test)\n",
        "\n",
        "min_x = min([min(class_x1), min(class_x2), min(class_x3)])\n",
        "max_x = max([max(class_x1), max(class_x2), max(class_x3)])\n",
        "\n",
        "min_y = min([min(class_y1), min(class_y2), min(class_y3)])\n",
        "max_y = max([max(class_y1), max(class_y2), max(class_y3)])\n",
        "\n",
        "xx, yy = np.meshgrid(np.linspace(min_x - 1, max_x + 1 , dpi), np.linspace(min_y - 1, max_y + 1, dpi)) # creates a mesh of points in space \n",
        "mesh_features_x = np.array([[x, 0] for x in xx.ravel()])\n",
        "mesh_features_y = np.array([[0, y] for y in yy.ravel()])\n",
        "mesh_features = mesh_features_x + mesh_features_y\n",
        "z = np.array(classifier_2(mesh_features, mean_set, prior_set, cov_classifier_2))\n",
        "z = z.reshape(xx.shape)"
      ],
      "id": "031d6111-e1cc-40c9-83e8-b55034fd104b"
    },
    {
      "cell_type": "code",
      "execution_count": 30,
      "metadata": {
        "colab": {
          "base_uri": "https://localhost:8080/",
          "height": 297
        },
        "id": "1a4b7ce6-cbbb-4547-8a08-1e4844053f38",
        "outputId": "ba6b057e-b47c-4997-ed7a-e751eefafd42"
      },
      "outputs": [
        {
          "output_type": "display_data",
          "data": {
            "text/plain": [
              "<Figure size 432x288 with 1 Axes>"
            ],
            "image/png": "[encoded data removed]"
          },
          "metadata": {
            "needs_background": "light"
          }
        }
      ],
      "source": [
        "plt.contourf(xx, yy, z, alpha = alpha, cmap = cmap)\n",
        "plt.scatter(class_x1, class_y1, label = 'Class 1', marker = '+')\n",
        "plt.scatter(class_x2, class_y2, label = 'Class 2', marker = '^')\n",
        "plt.scatter(class_x3, class_y3, label = 'Class 3', marker = '*')\n",
        "plt.title('Decision boundary given by classifier 2')\n",
        "plt.legend()\n",
        "plt.tight_layout(rect = [0, 0, 1, 1])"
      ],
      "id": "1a4b7ce6-cbbb-4547-8a08-1e4844053f38"
    },
    {
      "cell_type": "markdown",
      "metadata": {
        "id": "d5633f0c-c71f-4564-a625-841d92fb748f"
      },
      "source": [
        "### Classifier 3\n",
        "C3: Diagonal covariance matrix, distinct for each class. Use variances from the sample covariance matrix for each class."
      ],
      "id": "d5633f0c-c71f-4564-a625-841d92fb748f"
    },
    {
      "cell_type": "code",
      "execution_count": 31,
      "metadata": {
        "colab": {
          "base_uri": "https://localhost:8080/"
        },
        "id": "209df427-5fc1-484f-afb7-9951708ad881",
        "outputId": "6d9fa590-78e5-4583-df6b-9c2d502bf28c"
      },
      "outputs": [
        {
          "output_type": "stream",
          "name": "stdout",
          "text": [
            "Class 1 Covariance matrix =\n",
            "[[6.02755383 0.        ]\n",
            " [0.         2.77801584]]\n",
            "\n",
            "Class 2 Covariance matrix =\n",
            "[[6.49502067 0.        ]\n",
            " [0.         4.77123273]]\n",
            "\n",
            "Class 3 Covariance matrix =\n",
            "[[4.78847509 0.        ]\n",
            " [0.         9.7383084 ]]\n",
            "\n"
          ]
        }
      ],
      "source": [
        "var_class_1 = np.var(l_class_1_train, axis = 0, dtype = np.float64)\n",
        "var_class_2 = np.var(l_class_2_train, axis = 0, dtype = np.float64)\n",
        "var_class_3 = np.var(l_class_3_train, axis = 0, dtype = np.float64)\n",
        "\n",
        "# avg_var = (var_class_1 + var_class_2 + var_class_3) / 3\n",
        "\n",
        "cov_classifier_3 = [np.identity(2)* var_class_1, np.identity(2)* var_class_2, np.identity(2)* var_class_3]\n",
        "print(f'Class 1 Covariance matrix =\\n{cov_classifier_3[0]}\\n')\n",
        "print(f'Class 2 Covariance matrix =\\n{cov_classifier_3[1]}\\n')\n",
        "print(f'Class 3 Covariance matrix =\\n{cov_classifier_3[2]}\\n')"
      ],
      "id": "209df427-5fc1-484f-afb7-9951708ad881"
    },
    {
      "cell_type": "code",
      "execution_count": 32,
      "metadata": {
        "id": "dc3e321b-aa19-466a-988c-88ed5b092925"
      },
      "outputs": [],
      "source": [
        "def classifier_3(features, mean_set, prior_set, cov_m): #here x is the feature vector\n",
        "    pred = []\n",
        "    for x in features:\n",
        "        evidence = gaussian_ccd(x, mean_set[0], cov_m[0]) * prior_set[0] +  gaussian_ccd(x, mean_set[1], cov_m[1]) * prior_set[1] +  gaussian_ccd(x, mean_set[2], cov_m[2]) * prior_set[2]\n",
        "        posterior_class_1 = gaussian_ccd(x, mean_set[0], cov_m[0]) * prior_set[0] / evidence\n",
        "        posterior_class_2 = gaussian_ccd(x, mean_set[1], cov_m[1]) * prior_set[1] / evidence\n",
        "        posterior_class_3 = gaussian_ccd(x, mean_set[2], cov_m[2]) * prior_set[2] / evidence \n",
        "        \n",
        "        classify = np.argmax([posterior_class_1, posterior_class_2, posterior_class_3]) \n",
        "        pred.append(classify + 1)\n",
        "    return pred"
      ],
      "id": "dc3e321b-aa19-466a-988c-88ed5b092925"
    },
    {
      "cell_type": "code",
      "execution_count": 33,
      "metadata": {
        "colab": {
          "base_uri": "https://localhost:8080/"
        },
        "id": "99d489b0-724e-4ae7-acde-2fb45902d4c0",
        "outputId": "a8c0ed4e-c61c-4926-cd9f-95a40d420f60"
      },
      "outputs": [
        {
          "output_type": "stream",
          "name": "stdout",
          "text": [
            "Confusion matrix = \n",
            "[[250   0   0]\n",
            " [  0 250   0]\n",
            " [  0   0 250]]\n",
            "Classifier ferformance for linearly seperable dataset\n",
            "Accuracy = 1.0\n",
            "Precision = 1.0\n",
            "Recall = 1.0\n",
            "F-Score = 1.0\n"
          ]
        }
      ],
      "source": [
        "#for linear data\n",
        "mean_set = [mean_class_1_l, mean_class_2_l, mean_class_3_l]\n",
        "prior_set = [prior_class_1_l, prior_class_2_l, prior_class_3_l]\n",
        "\n",
        "pred_l_classifier_3 = classifier_3(test_features_l, mean_set, prior_set, cov_classifier_3)\n",
        "\n",
        "confusion_matrix_classifier_3 = confusion_mat(pred_l_classifier_3, gt_l)\n",
        "\n",
        "# mean_set, prior_set\n",
        "accuracy_classifier_3 = accuracy(confusion_matrix_classifier_3)\n",
        "precision_classifier_3 = precision(confusion_matrix_classifier_3)\n",
        "recall_classifier_3 = recall(confusion_matrix_classifier_3)\n",
        "f_score_classifier_3 = f_score(confusion_matrix_classifier_3)\n",
        "# #incorrect results, verify the classificaton and the metric calculation functions\n",
        "print(f'Confusion matrix = \\n{confusion_matrix_classifier_3}')\n",
        "print(f'Classifier ferformance for linearly seperable dataset\\nAccuracy = {accuracy_classifier_3}\\nPrecision = {precision_classifier_3}\\nRecall = {recall_classifier_3}\\nF-Score = {f_score_classifier_3}')\n"
      ],
      "id": "99d489b0-724e-4ae7-acde-2fb45902d4c0"
    },
    {
      "cell_type": "code",
      "execution_count": 34,
      "metadata": {
        "id": "27251344-f6a3-4373-a7a5-54cb84a834ef"
      },
      "outputs": [],
      "source": [
        "# class_x1, class_y1 = coordinates(l_class_1_test)\n",
        "# class_x2, class_y2 = coordinates(l_class_2_test)\n",
        "# class_x3, class_y3 = coordinates(l_class_3_test)\n",
        "\n",
        "# min_x = min([min(class_x1), min(class_x2), min(class_x3)])\n",
        "# max_x = max([max(class_x1), max(class_x2), max(class_x3)])\n",
        "\n",
        "# min_y = min([min(class_y1), min(class_y2), min(class_y3)])\n",
        "# max_y = max([max(class_y1), max(class_y2), max(class_y3)])\n",
        "\n",
        "# xx, yy = np.meshgrid(np.linspace(min_x - 1, max_x + 1 , dpi), np.linspace(min_y - 1, max_y + 1, dpi)) # creates a mesh of points in space \n",
        "# mesh_features_x = np.array([[x, 0] for x in xx.ravel()])\n",
        "# mesh_features_y = np.array([[0, y] for y in yy.ravel()])\n",
        "# mesh_features = mesh_features_x + mesh_features_y\n",
        "z = np.array(classifier_3(mesh_features, mean_set, prior_set, cov_classifier_3))\n",
        "z = z.reshape(xx.shape)"
      ],
      "id": "27251344-f6a3-4373-a7a5-54cb84a834ef"
    },
    {
      "cell_type": "code",
      "execution_count": 35,
      "metadata": {
        "colab": {
          "base_uri": "https://localhost:8080/",
          "height": 0
        },
        "id": "44d1b0f2-46d5-403a-9df8-9e20b801b09f",
        "outputId": "0d0bcaf6-af32-4788-c94b-8a2c6e49e8c2"
      },
      "outputs": [
        {
          "output_type": "display_data",
          "data": {
            "text/plain": [
              "<Figure size 432x288 with 1 Axes>"
            ],
            "image/png": "[encoded data removed]"
          },
          "metadata": {
            "needs_background": "light"
          }
        }
      ],
      "source": [
        "plt.contourf(xx, yy, z, alpha = alpha, cmap = cmap)\n",
        "plt.scatter(class_x1, class_y1, label = 'Class 1', marker = '+')\n",
        "plt.scatter(class_x2, class_y2, label = 'Class 2', marker = '^')\n",
        "plt.scatter(class_x3, class_y3, label = 'Class 3', marker = '*')\n",
        "plt.title('Decision boundary given by classifier 3')\n",
        "plt.legend()\n",
        "plt.tight_layout(rect = [0, 0, 1, 1])"
      ],
      "id": "44d1b0f2-46d5-403a-9df8-9e20b801b09f"
    },
    {
      "cell_type": "markdown",
      "metadata": {
        "id": "74a49c8c-c054-45c6-a107-8151c6e75578"
      },
      "source": [
        "### Classifier 4\n",
        "C4: Full covariance matrix, distinct for each class. Use the sample covariance matrix for each class."
      ],
      "id": "74a49c8c-c054-45c6-a107-8151c6e75578"
    },
    {
      "cell_type": "code",
      "execution_count": 36,
      "metadata": {
        "colab": {
          "base_uri": "https://localhost:8080/"
        },
        "id": "312c214b-ddb2-435a-8f19-eeed7266c8ee",
        "outputId": "04b9e3a8-7061-4dec-9097-746aa42dc24a"
      },
      "outputs": [
        {
          "output_type": "stream",
          "name": "stdout",
          "text": [
            "Class 1 Covariance matrix =\n",
            "[[ 6.05176087 -2.65004037]\n",
            " [-2.65004037  2.78917253]]\n",
            "\n",
            "Class 2 Covariance matrix =\n",
            "[[6.52110509 2.94634999]\n",
            " [2.94634999 4.79039431]]\n",
            "\n",
            "Class 3 Covariance matrix =\n",
            "[[ 4.80770592 -5.07829604]\n",
            " [-5.07829604  9.77741807]]\n",
            "\n"
          ]
        }
      ],
      "source": [
        "cov_class_1 = np.cov(l_class_1_train.T)\n",
        "cov_class_2 = np.cov(l_class_2_train.T)\n",
        "cov_class_3 = np.cov(l_class_3_train.T)\n",
        "\n",
        "cov_classifier_4 = (cov_class_1, cov_class_2, cov_class_3)\n",
        "print(f'Class 1 Covariance matrix =\\n{cov_classifier_4[0]}\\n')\n",
        "print(f'Class 2 Covariance matrix =\\n{cov_classifier_4[1]}\\n')\n",
        "print(f'Class 3 Covariance matrix =\\n{cov_classifier_4[2]}\\n')"
      ],
      "id": "312c214b-ddb2-435a-8f19-eeed7266c8ee"
    },
    {
      "cell_type": "code",
      "execution_count": 37,
      "metadata": {
        "id": "6b966591-3aa7-4c09-a1e6-85a08c9eba7b"
      },
      "outputs": [],
      "source": [
        "def classifier_4(features, mean_set, prior_set, cov_m): #here x is the feature vector\n",
        "    pred = []\n",
        "    for x in features:\n",
        "        evidence = gaussian_ccd(x, mean_set[0], cov_m[0]) * prior_set[0] +  gaussian_ccd(x, mean_set[1], cov_m[1]) * prior_set[1] +  gaussian_ccd(x, mean_set[2], cov_m[2]) * prior_set[2]\n",
        "        posterior_class_1 = gaussian_ccd(x, mean_set[0], cov_m[0]) * prior_set[0] / evidence\n",
        "        posterior_class_2 = gaussian_ccd(x, mean_set[1], cov_m[1]) * prior_set[1] / evidence\n",
        "        posterior_class_3 = gaussian_ccd(x, mean_set[2], cov_m[2]) * prior_set[2] / evidence \n",
        "        \n",
        "        classify = np.argmax([posterior_class_1, posterior_class_2, posterior_class_3]) \n",
        "        pred.append(classify + 1)\n",
        "    return pred"
      ],
      "id": "6b966591-3aa7-4c09-a1e6-85a08c9eba7b"
    },
    {
      "cell_type": "code",
      "execution_count": 38,
      "metadata": {
        "colab": {
          "base_uri": "https://localhost:8080/"
        },
        "id": "d0ac19a7-d4aa-41e7-88e7-5f614654f4a5",
        "outputId": "d4972c34-915a-4908-8034-d3183060d082"
      },
      "outputs": [
        {
          "output_type": "stream",
          "name": "stdout",
          "text": [
            "Confusion matrix = \n",
            "[[250   0   0]\n",
            " [  0 250   0]\n",
            " [  0   0 250]]\n",
            "Classifier ferformance for linearly seperable dataset\n",
            "Accuracy = 1.0\n",
            "Precision = 1.0\n",
            "Recall = 1.0\n",
            "F-Score = 1.0\n"
          ]
        }
      ],
      "source": [
        "#for linear data\n",
        "mean_set = [mean_class_1_l, mean_class_2_l, mean_class_3_l]\n",
        "prior_set = [prior_class_1_l, prior_class_2_l, prior_class_3_l]\n",
        "\n",
        "pred_l_classifier_4 = classifier_4(test_features_l, mean_set, prior_set, cov_classifier_4)\n",
        "\n",
        "confusion_matrix_classifier_4 = confusion_mat(pred_l_classifier_4, gt_l)\n",
        "\n",
        "# mean_set, prior_set\n",
        "accuracy_classifier_4 = accuracy(confusion_matrix_classifier_4)\n",
        "precision_classifier_4 = precision(confusion_matrix_classifier_4)\n",
        "recall_classifier_4 = recall(confusion_matrix_classifier_4)\n",
        "f_score_classifier_4 = f_score(confusion_matrix_classifier_4)\n",
        "# #incorrect results, verify the classificaton and the metric calculation functions\n",
        "print(f'Confusion matrix = \\n{confusion_matrix_classifier_4}')\n",
        "print(f'Classifier ferformance for linearly seperable dataset\\nAccuracy = {accuracy_classifier_4}\\nPrecision = {precision_classifier_4}\\nRecall = {recall_classifier_4}\\nF-Score = {f_score_classifier_4}')\n"
      ],
      "id": "d0ac19a7-d4aa-41e7-88e7-5f614654f4a5"
    },
    {
      "cell_type": "code",
      "execution_count": 39,
      "metadata": {
        "id": "9372a81f-a5e1-4926-ab77-23c4a58da7e0"
      },
      "outputs": [],
      "source": [
        "# class_x1, class_y1 = coordinates(l_class_1_test)\n",
        "# class_x2, class_y2 = coordinates(l_class_2_test)\n",
        "# class_x3, class_y3 = coordinates(l_class_3_test)\n",
        "\n",
        "# min_x = min([min(class_x1), min(class_x2), min(class_x3)])\n",
        "# max_x = max([max(class_x1), max(class_x2), max(class_x3)])\n",
        "\n",
        "# min_y = min([min(class_y1), min(class_y2), min(class_y3)])\n",
        "# max_y = max([max(class_y1), max(class_y2), max(class_y3)])\n",
        "\n",
        "# xx, yy = np.meshgrid(np.linspace(min_x - 1, max_x + 1 , dpi), np.linspace(min_y - 1, max_y + 1, dpi)) # creates a mesh of points in space \n",
        "# mesh_features_x = np.array([[x, 0] for x in xx.ravel()])\n",
        "# mesh_features_y = np.array([[0, y] for y in yy.ravel()])\n",
        "# mesh_features = mesh_features_x + mesh_features_y\n",
        "z = np.array(classifier_4(mesh_features, mean_set, prior_set, cov_classifier_4))\n",
        "z = z.reshape(xx.shape)"
      ],
      "id": "9372a81f-a5e1-4926-ab77-23c4a58da7e0"
    },
    {
      "cell_type": "code",
      "execution_count": 40,
      "metadata": {
        "colab": {
          "base_uri": "https://localhost:8080/",
          "height": 0
        },
        "id": "e344edfd-69ad-4319-82ee-9ad225e71daf",
        "outputId": "757fbf8b-0516-497e-93ff-60e4516a6d46"
      },
      "outputs": [
        {
          "output_type": "display_data",
          "data": {
            "text/plain": [
              "<Figure size 432x288 with 1 Axes>"
            ],
            "image/png": "[encoded data removed]"
          },
          "metadata": {
            "needs_background": "light"
          }
        }
      ],
      "source": [
        "plt.contourf(xx, yy, z, alpha = alpha, cmap = cmap)\n",
        "plt.scatter(class_x1, class_y1, label = 'Class 1', marker = '+')\n",
        "plt.scatter(class_x2, class_y2, label = 'Class 2', marker = '^')\n",
        "plt.scatter(class_x3, class_y3, label = 'Class 3', marker = '*')\n",
        "plt.title('Decision boundary given by classifier 4')\n",
        "plt.legend()\n",
        "plt.tight_layout(rect = [0, 0, 1, 1])"
      ],
      "id": "e344edfd-69ad-4319-82ee-9ad225e71daf"
    },
    {
      "cell_type": "markdown",
      "metadata": {
        "id": "87baa18e-6d63-45f2-9f0f-4aa4ed5a9911"
      },
      "source": [
        "### Performance of classifier\n",
        "Summary pf the classifier performance"
      ],
      "id": "87baa18e-6d63-45f2-9f0f-4aa4ed5a9911"
    },
    {
      "cell_type": "code",
      "execution_count": 41,
      "metadata": {
        "colab": {
          "base_uri": "https://localhost:8080/"
        },
        "id": "3fa957cd-924e-44bb-86cc-f45984e3cf7a",
        "outputId": "0adc187f-01af-4b1e-bf2b-b960a22f276d"
      },
      "outputs": [
        {
          "output_type": "stream",
          "name": "stdout",
          "text": [
            "Classifier\t|Acc.\t|Prec.\t|Recall\t|F-score\n",
            "C1\t\t| 1.000\t| 1.000\t| 1.000\t| 1.000\n",
            "C2\t\t| 1.000\t| 1.000\t| 1.000\t| 1.000\n",
            "C3\t\t| 1.000\t| 1.000\t| 1.000\t| 1.000\n",
            "C4\t\t| 1.000\t| 1.000\t| 1.000\t| 1.000\n"
          ]
        }
      ],
      "source": [
        "print('Classifier', 'Acc.', 'Prec.', 'Recall', 'F-score', sep = '\\t|')\n",
        "print('C1\\t', f'{accuracy_classifier_1: .3f}', f'{precision_classifier_1: .3f}', f'{recall_classifier_1: .3f}', f'{f_score_classifier_1: .3f}', sep = '\\t|')\n",
        "print('C2\\t', f'{accuracy_classifier_2: .3f}', f'{precision_classifier_2: .3f}', f'{recall_classifier_2: .3f}', f'{f_score_classifier_2: .3f}', sep = '\\t|')\n",
        "print('C3\\t', f'{accuracy_classifier_3: .3f}', f'{precision_classifier_3: .3f}', f'{recall_classifier_3: .3f}', f'{f_score_classifier_3: .3f}', sep = '\\t|')\n",
        "print('C4\\t', f'{accuracy_classifier_4: .3f}', f'{precision_classifier_4: .3f}', f'{recall_classifier_4: .3f}', f'{f_score_classifier_4: .3f}', sep = '\\t|')"
      ],
      "id": "3fa957cd-924e-44bb-86cc-f45984e3cf7a"
    },
    {
      "cell_type": "markdown",
      "metadata": {
        "id": "c056963d-21f1-4330-b235-aa7032c49bf3"
      },
      "source": [
        "## Non-linearly seperable features"
      ],
      "id": "c056963d-21f1-4330-b235-aa7032c49bf3"
    },
    {
      "cell_type": "markdown",
      "metadata": {
        "id": "4bbf9a1e-a5f3-4bbf-af55-fc2201ef14b4"
      },
      "source": [
        "### Classifier 1\n",
        "C1: Covariance for all classes is $I\\sigma^{2}$. Use the average of the sample variances for all dimensions, for all classes, from the training data as $\\sigma^{2}$."
      ],
      "id": "4bbf9a1e-a5f3-4bbf-af55-fc2201ef14b4"
    },
    {
      "cell_type": "code",
      "execution_count": 42,
      "metadata": {
        "colab": {
          "base_uri": "https://localhost:8080/"
        },
        "id": "b6baba04-e188-48d5-8cc8-fbf4234c3f57",
        "outputId": "649bcb52-d9ae-4a5f-b2f5-d7ee30caeafc"
      },
      "outputs": [
        {
          "output_type": "stream",
          "name": "stdout",
          "text": [
            "Covariance matrix =\n",
            "[[0.85301628 0.        ]\n",
            " [0.         0.18197072]]\n"
          ]
        }
      ],
      "source": [
        "var_class_1 = np.var(nl_class_1_train, axis = 0, dtype = np.float64)\n",
        "var_class_2 = np.var(nl_class_2_train, axis = 0, dtype = np.float64)\n",
        "var_class_3 = np.var(nl_class_3_train, axis = 0, dtype = np.float64)\n",
        "\n",
        "avg_var = (var_class_1 + var_class_2 + var_class_3) / 3\n",
        "cov_classifier_1 = np.identity(2)* avg_var\n",
        "print(f'Covariance matrix =\\n{cov_classifier_1}')\n"
      ],
      "id": "b6baba04-e188-48d5-8cc8-fbf4234c3f57"
    },
    {
      "cell_type": "code",
      "execution_count": 43,
      "metadata": {
        "id": "ca6a786a-c058-4f8d-b594-981b5a53bb04"
      },
      "outputs": [],
      "source": [
        "def classifier_1(features, mean_set, prior_set, cov_m): #here x is the feature vector\n",
        "    pred = []\n",
        "    for x in features:\n",
        "        evidence = gaussian_ccd(x, mean_set[0], cov_m) * prior_set[0] +  gaussian_ccd(x, mean_set[1], cov_m) * prior_set[1] +  gaussian_ccd(x, mean_set[2], cov_m) * prior_set[2]\n",
        "        posterior_class_1 = gaussian_ccd(x, mean_set[0], cov_m) * prior_set[0] / evidence\n",
        "        posterior_class_2 = gaussian_ccd(x, mean_set[1], cov_m) * prior_set[1] / evidence\n",
        "        posterior_class_3 = gaussian_ccd(x, mean_set[2], cov_m) * prior_set[2] / evidence \n",
        "        \n",
        "        classify = np.argmax([posterior_class_1, posterior_class_2, posterior_class_3]) \n",
        "        pred.append(classify + 1)\n",
        "    return pred"
      ],
      "id": "ca6a786a-c058-4f8d-b594-981b5a53bb04"
    },
    {
      "cell_type": "code",
      "execution_count": 44,
      "metadata": {
        "colab": {
          "base_uri": "https://localhost:8080/"
        },
        "id": "ad147caa-7532-43d8-9e00-a13195049f79",
        "outputId": "a2e9c2f7-36e0-4ca2-bf68-e3e6f5f30055"
      },
      "outputs": [
        {
          "output_type": "stream",
          "name": "stdout",
          "text": [
            "Confusion matrix = \n",
            "[[222  16  22]\n",
            " [ 14 234   0]\n",
            " [ 14   0 228]]\n",
            "Classifier ferformance for linearly seperable dataset\n",
            "Accuracy = 0.912\n",
            "Precision = 0.9131811004245022\n",
            "Recall = 0.912\n",
            "F-Score = 0.9125901680588823\n"
          ]
        }
      ],
      "source": [
        "#for non-linear data\n",
        "mean_set = [mean_class_1_nl, mean_class_2_nl, mean_class_3_nl]\n",
        "prior_set = [prior_class_1_nl, prior_class_2_nl, prior_class_3_nl]\n",
        "\n",
        "pred_nl_classifier_1 = classifier_1(test_features_nl, mean_set, prior_set, cov_classifier_1)\n",
        "\n",
        "confusion_matrix_classifier_1 = confusion_mat(pred_nl_classifier_1, gt_nl)\n",
        "\n",
        "# mean_set, prior_set\n",
        "accuracy_classifier_1 = accuracy(confusion_matrix_classifier_1)\n",
        "precision_classifier_1 = precision(confusion_matrix_classifier_1)\n",
        "recall_classifier_1 = recall(confusion_matrix_classifier_1)\n",
        "f_score_classifier_1 = f_score(confusion_matrix_classifier_1)\n",
        "# #incorrect results, verify the classificaton and the metric calculation functions\n",
        "print(f'Confusion matrix = \\n{confusion_matrix_classifier_1}')\n",
        "print(f'Classifier ferformance for linearly seperable dataset\\nAccuracy = {accuracy_classifier_1}\\nPrecision = {precision_classifier_1}\\nRecall = {recall_classifier_1}\\nF-Score = {f_score_classifier_1}')\n"
      ],
      "id": "ad147caa-7532-43d8-9e00-a13195049f79"
    },
    {
      "cell_type": "code",
      "execution_count": 45,
      "metadata": {
        "id": "6030ba79-5b4f-4563-9968-d2cbc04175cc"
      },
      "outputs": [],
      "source": [
        "class_x1, class_y1 = coordinates(nl_class_1_test)\n",
        "class_x2, class_y2 = coordinates(nl_class_2_test)\n",
        "class_x3, class_y3 = coordinates(nl_class_3_test)\n",
        "\n",
        "min_x = min([min(class_x1), min(class_x2), min(class_x3)])\n",
        "max_x = max([max(class_x1), max(class_x2), max(class_x3)])\n",
        "\n",
        "min_y = min([min(class_y1), min(class_y2), min(class_y3)])\n",
        "max_y = max([max(class_y1), max(class_y2), max(class_y3)])\n",
        "\n",
        "xx, yy = np.meshgrid(np.linspace(min_x - 1, max_x + 1 , dpi), np.linspace(min_y - 1, max_y + 1, dpi)) # creates a mesh of points in space \n",
        "mesh_features_x = np.array([[x, 0] for x in xx.ravel()])\n",
        "mesh_features_y = np.array([[0, y] for y in yy.ravel()])\n",
        "mesh_features = mesh_features_x + mesh_features_y\n",
        "z = np.array(classifier_1(mesh_features, mean_set, prior_set, cov_classifier_1))\n",
        "z = z.reshape(xx.shape)"
      ],
      "id": "6030ba79-5b4f-4563-9968-d2cbc04175cc"
    },
    {
      "cell_type": "code",
      "execution_count": 46,
      "metadata": {
        "id": "e26cf471-dd7c-4fec-aeb8-575aaf67e9f2",
        "colab": {
          "base_uri": "https://localhost:8080/",
          "height": 297
        },
        "outputId": "e2f5a8f2-109f-4377-9ab8-a8c47371c2ef"
      },
      "outputs": [
        {
          "output_type": "display_data",
          "data": {
            "text/plain": [
              "<Figure size 432x288 with 1 Axes>"
            ],
            "image/png": "[encoded data removed]"
          },
          "metadata": {
            "needs_background": "light"
          }
        }
      ],
      "source": [
        "plt.contourf(xx, yy, z, alpha = alpha, cmap = cmap)\n",
        "plt.scatter(class_x1, class_y1, label = 'Class 1', marker = '+')\n",
        "plt.scatter(class_x2, class_y2, label = 'Class 2', marker = '^')\n",
        "plt.scatter(class_x3, class_y3, label = 'Class 3', marker = '*')\n",
        "plt.title('Decision boundary given by classifier 1')\n",
        "plt.legend()\n",
        "plt.tight_layout(rect = [0, 0, 1, 1])"
      ],
      "id": "e26cf471-dd7c-4fec-aeb8-575aaf67e9f2"
    },
    {
      "cell_type": "markdown",
      "metadata": {
        "id": "78bcbfde-8bc7-467c-8f1d-06bb5c50526e"
      },
      "source": [
        "### Classifier 2\n",
        "C2: Full but equal covariance for all classes, $\\Sigma$. Use the average of the sample covariance matrix from all classes in the train data as $\\Sigma$."
      ],
      "id": "78bcbfde-8bc7-467c-8f1d-06bb5c50526e"
    },
    {
      "cell_type": "code",
      "execution_count": 47,
      "metadata": {
        "id": "05235fb7-38fc-4ff8-9ac3-177ebf3041f8",
        "colab": {
          "base_uri": "https://localhost:8080/"
        },
        "outputId": "eac62280-7d8c-4086-dc01-a1220ac9a23d"
      },
      "outputs": [
        {
          "output_type": "stream",
          "name": "stdout",
          "text": [
            "Covariance matrix =\n",
            "[[0.85644205 0.00654905]\n",
            " [0.00654905 0.18270152]]\n"
          ]
        }
      ],
      "source": [
        "cov_class_1 = np.cov(nl_class_1_train.T)\n",
        "cov_class_2 = np.cov(nl_class_2_train.T)\n",
        "cov_class_3 = np.cov(nl_class_3_train.T)\n",
        "\n",
        "cov_classifier_2 = (cov_class_1 + cov_class_2 + cov_class_3) / 3\n",
        "print(f'Covariance matrix =\\n{cov_classifier_2}')"
      ],
      "id": "05235fb7-38fc-4ff8-9ac3-177ebf3041f8"
    },
    {
      "cell_type": "code",
      "execution_count": 48,
      "metadata": {
        "id": "d74b0a64-f9ea-4bc1-bb83-d1822b3f37e7"
      },
      "outputs": [],
      "source": [
        "def classifier_2(features, mean_set, prior_set, cov_m): #here x is the feature vector\n",
        "    pred = []\n",
        "    for x in features:\n",
        "        evidence = gaussian_ccd(x, mean_set[0], cov_m) * prior_set[0] +  gaussian_ccd(x, mean_set[1], cov_m) * prior_set[1] +  gaussian_ccd(x, mean_set[2], cov_m) * prior_set[2]\n",
        "        posterior_class_1 = gaussian_ccd(x, mean_set[0], cov_m) * prior_set[0] / evidence\n",
        "        posterior_class_2 = gaussian_ccd(x, mean_set[1], cov_m) * prior_set[1] / evidence\n",
        "        posterior_class_3 = gaussian_ccd(x, mean_set[2], cov_m) * prior_set[2] / evidence \n",
        "        \n",
        "        classify = np.argmax([posterior_class_1, posterior_class_2, posterior_class_3]) \n",
        "        pred.append(classify + 1)\n",
        "    return pred"
      ],
      "id": "d74b0a64-f9ea-4bc1-bb83-d1822b3f37e7"
    },
    {
      "cell_type": "code",
      "execution_count": 49,
      "metadata": {
        "id": "7ed7c1f0-efd3-4a03-abc4-478cf67b2435",
        "colab": {
          "base_uri": "https://localhost:8080/"
        },
        "outputId": "e9af6f84-9ecc-4245-9d84-22e507e3d3dc"
      },
      "outputs": [
        {
          "output_type": "stream",
          "name": "stdout",
          "text": [
            "Confusion matrix = \n",
            "[[222  16  22]\n",
            " [ 14 234   0]\n",
            " [ 14   0 228]]\n",
            "Classifier ferformance for linearly seperable dataset\n",
            "Accuracy = 0.912\n",
            "Precision = 0.9131811004245022\n",
            "Recall = 0.912\n",
            "F-Score = 0.9125901680588823\n"
          ]
        }
      ],
      "source": [
        "#for non-linear data\n",
        "mean_set = [mean_class_1_nl, mean_class_2_nl, mean_class_3_nl]\n",
        "prior_set = [prior_class_1_nl, prior_class_2_nl, prior_class_3_nl]\n",
        "\n",
        "pred_nl_classifier_2 = classifier_2(test_features_nl, mean_set, prior_set, cov_classifier_2)\n",
        "\n",
        "confusion_matrix_classifier_2 = confusion_mat(pred_nl_classifier_2, gt_nl)\n",
        "\n",
        "# mean_set, prior_set\n",
        "accuracy_classifier_2 = accuracy(confusion_matrix_classifier_2)\n",
        "precision_classifier_2 = precision(confusion_matrix_classifier_2)\n",
        "recall_classifier_2 = recall(confusion_matrix_classifier_2)\n",
        "f_score_classifier_2 = f_score(confusion_matrix_classifier_2)\n",
        "# #incorrect results, verify the classificaton and the metric calculation functions\n",
        "print(f'Confusion matrix = \\n{confusion_matrix_classifier_2}')\n",
        "print(f'Classifier ferformance for linearly seperable dataset\\nAccuracy = {accuracy_classifier_2}\\nPrecision = {precision_classifier_2}\\nRecall = {recall_classifier_2}\\nF-Score = {f_score_classifier_2}')\n"
      ],
      "id": "7ed7c1f0-efd3-4a03-abc4-478cf67b2435"
    },
    {
      "cell_type": "code",
      "execution_count": 50,
      "metadata": {
        "id": "377fb052-9574-4b85-99fe-c4c6396353cf"
      },
      "outputs": [],
      "source": [
        "# class_x1, class_y1 = coordinates(nl_class_1_test)\n",
        "# class_x2, class_y2 = coordinates(nl_class_2_test)\n",
        "# class_x3, class_y3 = coordinates(nl_class_3_test)\n",
        "\n",
        "# min_x = min([min(class_x1), min(class_x2), min(class_x3)])\n",
        "# max_x = max([max(class_x1), max(class_x2), max(class_x3)])\n",
        "\n",
        "# min_y = min([min(class_y1), min(class_y2), min(class_y3)])\n",
        "# max_y = max([max(class_y1), max(class_y2), max(class_y3)])\n",
        "\n",
        "# xx, yy = np.meshgrid(np.linspace(min_x - 1, max_x + 1 , dpi), np.linspace(min_y - 1, max_y + 1, dpi)) # creates a mesh of points in space \n",
        "# mesh_features_x = np.array([[x, 0] for x in xx.ravel()])\n",
        "# mesh_features_y = np.array([[0, y] for y in yy.ravel()])\n",
        "# mesh_features = mesh_features_x + mesh_features_y\n",
        "z = np.array(classifier_2(mesh_features, mean_set, prior_set, cov_classifier_2))\n",
        "z = z.reshape(xx.shape)"
      ],
      "id": "377fb052-9574-4b85-99fe-c4c6396353cf"
    },
    {
      "cell_type": "code",
      "execution_count": 51,
      "metadata": {
        "id": "b5ee230d-54b1-4592-b511-8fa834f1e4c2",
        "colab": {
          "base_uri": "https://localhost:8080/",
          "height": 297
        },
        "outputId": "a6bf039c-1b9a-4a3b-d6b6-f79a2ca3dba3"
      },
      "outputs": [
        {
          "output_type": "display_data",
          "data": {
            "text/plain": [
              "<Figure size 432x288 with 1 Axes>"
            ],
            "image/png": "[encoded data removed]"
          },
          "metadata": {
            "needs_background": "light"
          }
        }
      ],
      "source": [
        "plt.contourf(xx, yy, z, alpha = alpha, cmap = cmap)\n",
        "plt.scatter(class_x1, class_y1, label = 'Class 1', marker = '+')\n",
        "plt.scatter(class_x2, class_y2, label = 'Class 2', marker = '^')\n",
        "plt.scatter(class_x3, class_y3, label = 'Class 3', marker = '*')\n",
        "plt.title('Decision boundary given by classifier 2')\n",
        "plt.legend()\n",
        "plt.tight_layout(rect = [0, 0, 1, 1])"
      ],
      "id": "b5ee230d-54b1-4592-b511-8fa834f1e4c2"
    },
    {
      "cell_type": "markdown",
      "metadata": {
        "id": "c2ec94ae-2e26-4086-90b6-13d8ceb0222d"
      },
      "source": [
        "### Classifier 3\n",
        "C3: Diagonal covariance matrix, distinct for each class. Use variances from the sample covariance matrix for each class."
      ],
      "id": "c2ec94ae-2e26-4086-90b6-13d8ceb0222d"
    },
    {
      "cell_type": "code",
      "execution_count": 52,
      "metadata": {
        "id": "2e9e7133-d833-4553-a4d6-03bb5ac873f3",
        "colab": {
          "base_uri": "https://localhost:8080/"
        },
        "outputId": "9c654034-7f34-43c3-e891-0882fcb654f1"
      },
      "outputs": [
        {
          "output_type": "stream",
          "name": "stdout",
          "text": [
            "Class 1 Covariance matrix =\n",
            "[[0.87391892 0.        ]\n",
            " [0.         0.16234948]]\n",
            "\n",
            "Class 2 Covariance matrix =\n",
            "[[0.84256496 0.        ]\n",
            " [0.         0.19178134]]\n",
            "\n",
            "Class 3 Covariance matrix =\n",
            "[[0.84256496 0.        ]\n",
            " [0.         0.19178134]]\n",
            "\n"
          ]
        }
      ],
      "source": [
        "var_class_1 = np.var(nl_class_1_train, axis = 0, dtype = np.float64)\n",
        "var_class_2 = np.var(nl_class_2_train, axis = 0, dtype = np.float64)\n",
        "var_class_3 = np.var(nl_class_3_train, axis = 0, dtype = np.float64)\n",
        "\n",
        "# avg_var = (var_class_1 + var_class_2 + var_class_3) / 3\n",
        "\n",
        "cov_classifier_3 = [np.identity(2)* var_class_1, np.identity(2)* var_class_2, np.identity(2)* var_class_3]\n",
        "print(f'Class 1 Covariance matrix =\\n{cov_classifier_3[0]}\\n')\n",
        "print(f'Class 2 Covariance matrix =\\n{cov_classifier_3[1]}\\n')\n",
        "print(f'Class 3 Covariance matrix =\\n{cov_classifier_3[2]}\\n')"
      ],
      "id": "2e9e7133-d833-4553-a4d6-03bb5ac873f3"
    },
    {
      "cell_type": "code",
      "execution_count": 53,
      "metadata": {
        "id": "f9ebf02e-a17a-45ae-b868-947211d61ace"
      },
      "outputs": [],
      "source": [
        "def classifier_3(features, mean_set, prior_set, cov_m): #here x is the feature vector\n",
        "    pred = []\n",
        "    for x in features:\n",
        "        evidence = gaussian_ccd(x, mean_set[0], cov_m[0]) * prior_set[0] +  gaussian_ccd(x, mean_set[1], cov_m[1]) * prior_set[1] +  gaussian_ccd(x, mean_set[2], cov_m[2]) * prior_set[2]\n",
        "        posterior_class_1 = gaussian_ccd(x, mean_set[0], cov_m[0]) * prior_set[0] / evidence\n",
        "        posterior_class_2 = gaussian_ccd(x, mean_set[1], cov_m[1]) * prior_set[1] / evidence\n",
        "        posterior_class_3 = gaussian_ccd(x, mean_set[2], cov_m[2]) * prior_set[2] / evidence \n",
        "        \n",
        "        classify = np.argmax([posterior_class_1, posterior_class_2, posterior_class_3]) \n",
        "        pred.append(classify + 1)\n",
        "    return pred"
      ],
      "id": "f9ebf02e-a17a-45ae-b868-947211d61ace"
    },
    {
      "cell_type": "code",
      "execution_count": 54,
      "metadata": {
        "id": "60bf0aa9-8641-4090-b9d2-0cce312448c7",
        "colab": {
          "base_uri": "https://localhost:8080/"
        },
        "outputId": "fe505353-3532-4ca0-c000-647264b8eef0"
      },
      "outputs": [
        {
          "output_type": "stream",
          "name": "stdout",
          "text": [
            "Confusion matrix = \n",
            "[[221  13  21]\n",
            " [ 14 237   0]\n",
            " [ 15   0 229]]\n",
            "Classifier ferformance for linearly seperable dataset\n",
            "Accuracy = 0.916\n",
            "Precision = 0.9164714548001074\n",
            "Recall = 0.9159999999999999\n",
            "F-Score = 0.9162356667525527\n"
          ]
        }
      ],
      "source": [
        "#for linear data\n",
        "mean_set = [mean_class_1_nl, mean_class_2_nl, mean_class_3_nl]\n",
        "prior_set = [prior_class_1_nl, prior_class_2_nl, prior_class_3_nl]\n",
        "\n",
        "pred_l_classifier_3 = classifier_3(test_features_nl, mean_set, prior_set, cov_classifier_3)\n",
        "\n",
        "confusion_matrix_classifier_3 = confusion_mat(pred_l_classifier_3, gt_l)\n",
        "\n",
        "# mean_set, prior_set\n",
        "accuracy_classifier_3 = accuracy(confusion_matrix_classifier_3)\n",
        "precision_classifier_3 = precision(confusion_matrix_classifier_3)\n",
        "recall_classifier_3 = recall(confusion_matrix_classifier_3)\n",
        "f_score_classifier_3 = f_score(confusion_matrix_classifier_3)\n",
        "# #incorrect results, verify the classificaton and the metric calculation functions\n",
        "print(f'Confusion matrix = \\n{confusion_matrix_classifier_3}')\n",
        "print(f'Classifier ferformance for linearly seperable dataset\\nAccuracy = {accuracy_classifier_3}\\nPrecision = {precision_classifier_3}\\nRecall = {recall_classifier_3}\\nF-Score = {f_score_classifier_3}')\n"
      ],
      "id": "60bf0aa9-8641-4090-b9d2-0cce312448c7"
    },
    {
      "cell_type": "code",
      "execution_count": 55,
      "metadata": {
        "id": "285167b9-1705-4477-93f5-97edce47bf5d"
      },
      "outputs": [],
      "source": [
        "# class_x1, class_y1 = coordinates(l_class_1_test)\n",
        "# class_x2, class_y2 = coordinates(l_class_2_test)\n",
        "# class_x3, class_y3 = coordinates(l_class_3_test)\n",
        "\n",
        "# min_x = min([min(class_x1), min(class_x2), min(class_x3)])\n",
        "# max_x = max([max(class_x1), max(class_x2), max(class_x3)])\n",
        "\n",
        "# min_y = min([min(class_y1), min(class_y2), min(class_y3)])\n",
        "# max_y = max([max(class_y1), max(class_y2), max(class_y3)])\n",
        "\n",
        "# xx, yy = np.meshgrid(np.linspace(min_x - 1, max_x + 1 , dpi), np.linspace(min_y - 1, max_y + 1, dpi)) # creates a mesh of points in space \n",
        "# mesh_features_x = np.array([[x, 0] for x in xx.ravel()])\n",
        "# mesh_features_y = np.array([[0, y] for y in yy.ravel()])\n",
        "# mesh_features = mesh_features_x + mesh_features_y\n",
        "z = np.array(classifier_3(mesh_features, mean_set, prior_set, cov_classifier_3))\n",
        "z = z.reshape(xx.shape)"
      ],
      "id": "285167b9-1705-4477-93f5-97edce47bf5d"
    },
    {
      "cell_type": "code",
      "execution_count": 56,
      "metadata": {
        "colab": {
          "base_uri": "https://localhost:8080/",
          "height": 0
        },
        "id": "2f96539a-6e21-4f0a-884d-87098215ced6",
        "outputId": "98940bc4-8a61-4cae-9c8b-3dbea75d778c"
      },
      "outputs": [
        {
          "output_type": "display_data",
          "data": {
            "text/plain": [
              "<Figure size 432x288 with 1 Axes>"
            ],
            "image/png": "[encoded data removed]"
          },
          "metadata": {
            "needs_background": "light"
          }
        }
      ],
      "source": [
        "plt.contourf(xx, yy, z, alpha = alpha, cmap = cmap)\n",
        "plt.scatter(class_x1, class_y1, label = 'Class 1', marker = '+')\n",
        "plt.scatter(class_x2, class_y2, label = 'Class 2', marker = '^')\n",
        "plt.scatter(class_x3, class_y3, label = 'Class 3', marker = '*')\n",
        "plt.title('Decision boundary given by classifier 3')\n",
        "plt.legend()\n",
        "plt.tight_layout(rect = [0, 0, 1, 1])"
      ],
      "id": "2f96539a-6e21-4f0a-884d-87098215ced6"
    },
    {
      "cell_type": "markdown",
      "metadata": {
        "id": "cf11ba85-429c-401f-bd3f-d4f55b31f43d"
      },
      "source": [
        "### Classifier 4\n",
        "C4: Full covariance matrix, distinct for each class. Use the sample covariance matrix for each class."
      ],
      "id": "cf11ba85-429c-401f-bd3f-d4f55b31f43d"
    },
    {
      "cell_type": "code",
      "execution_count": 57,
      "metadata": {
        "colab": {
          "base_uri": "https://localhost:8080/"
        },
        "id": "7d35253c-c710-4aa9-b079-39cb2cf11f14",
        "outputId": "3b2c169f-64a7-4592-afcd-d8be9f3dbde4"
      },
      "outputs": [
        {
          "output_type": "stream",
          "name": "stdout",
          "text": [
            "Class 1 Covariance matrix =\n",
            "[[ 0.87742863 -0.04154202]\n",
            " [-0.04154202  0.16300148]]\n",
            "\n",
            "Class 2 Covariance matrix =\n",
            "[[0.84594876 0.03059458]\n",
            " [0.03059458 0.19255154]]\n",
            "\n",
            "Class 3 Covariance matrix =\n",
            "[[0.84594876 0.03059458]\n",
            " [0.03059458 0.19255154]]\n",
            "\n"
          ]
        }
      ],
      "source": [
        "cov_class_1 = np.cov(nl_class_1_train.T)\n",
        "cov_class_2 = np.cov(nl_class_2_train.T)\n",
        "cov_class_3 = np.cov(nl_class_3_train.T)\n",
        "\n",
        "cov_classifier_4 = (cov_class_1, cov_class_2, cov_class_3)\n",
        "print(f'Class 1 Covariance matrix =\\n{cov_classifier_4[0]}\\n')\n",
        "print(f'Class 2 Covariance matrix =\\n{cov_classifier_4[1]}\\n')\n",
        "print(f'Class 3 Covariance matrix =\\n{cov_classifier_4[2]}\\n')"
      ],
      "id": "7d35253c-c710-4aa9-b079-39cb2cf11f14"
    },
    {
      "cell_type": "code",
      "execution_count": 58,
      "metadata": {
        "id": "e92e8a01-3c0b-4400-99ca-b257a401809d"
      },
      "outputs": [],
      "source": [
        "def classifier_4(features, mean_set, prior_set, cov_m): #here x is the feature vector\n",
        "    pred = []\n",
        "    for x in features:\n",
        "        evidence = gaussian_ccd(x, mean_set[0], cov_m[0]) * prior_set[0] +  gaussian_ccd(x, mean_set[1], cov_m[1]) * prior_set[1] +  gaussian_ccd(x, mean_set[2], cov_m[2]) * prior_set[2]\n",
        "        posterior_class_1 = gaussian_ccd(x, mean_set[0], cov_m[0]) * prior_set[0] / evidence\n",
        "        posterior_class_2 = gaussian_ccd(x, mean_set[1], cov_m[1]) * prior_set[1] / evidence\n",
        "        posterior_class_3 = gaussian_ccd(x, mean_set[2], cov_m[2]) * prior_set[2] / evidence \n",
        "        \n",
        "        classify = np.argmax([posterior_class_1, posterior_class_2, posterior_class_3]) \n",
        "        pred.append(classify + 1)\n",
        "    return pred"
      ],
      "id": "e92e8a01-3c0b-4400-99ca-b257a401809d"
    },
    {
      "cell_type": "code",
      "execution_count": 59,
      "metadata": {
        "colab": {
          "base_uri": "https://localhost:8080/"
        },
        "id": "cc4f63a1-452d-4d87-b988-8c5f3d773219",
        "outputId": "c4c7b551-8f44-4e51-a235-81961d8e3ae2"
      },
      "outputs": [
        {
          "output_type": "stream",
          "name": "stdout",
          "text": [
            "Confusion matrix = \n",
            "[[222   9  24]\n",
            " [ 17 241   0]\n",
            " [ 11   0 226]]\n",
            "Classifier ferformance for linearly seperable dataset\n",
            "Accuracy = 0.9186666666666666\n",
            "Precision = 0.919427753438732\n",
            "Recall = 0.9186666666666666\n",
            "F-Score = 0.9190470524837876\n"
          ]
        }
      ],
      "source": [
        "#for linear data\n",
        "mean_set = [mean_class_1_nl, mean_class_2_nl, mean_class_3_nl]\n",
        "prior_set = [prior_class_1_nl, prior_class_2_nl, prior_class_3_nl]\n",
        "\n",
        "pred_nl_classifier_4 = classifier_4(test_features_nl, mean_set, prior_set, cov_classifier_4)\n",
        "\n",
        "confusion_matrix_classifier_4 = confusion_mat(pred_nl_classifier_4, gt_nl)\n",
        "\n",
        "# mean_set, prior_set\n",
        "accuracy_classifier_4 = accuracy(confusion_matrix_classifier_4)\n",
        "precision_classifier_4 = precision(confusion_matrix_classifier_4)\n",
        "recall_classifier_4 = recall(confusion_matrix_classifier_4)\n",
        "f_score_classifier_4 = f_score(confusion_matrix_classifier_4)\n",
        "# #incorrect results, verify the classificaton and the metric calculation functions\n",
        "print(f'Confusion matrix = \\n{confusion_matrix_classifier_4}')\n",
        "print(f'Classifier ferformance for linearly seperable dataset\\nAccuracy = {accuracy_classifier_4}\\nPrecision = {precision_classifier_4}\\nRecall = {recall_classifier_4}\\nF-Score = {f_score_classifier_4}')\n"
      ],
      "id": "cc4f63a1-452d-4d87-b988-8c5f3d773219"
    },
    {
      "cell_type": "code",
      "execution_count": 60,
      "metadata": {
        "id": "2e3ea853-d22c-4a82-b1a1-2187dd1095af"
      },
      "outputs": [],
      "source": [
        "# class_x1, class_y1 = coordinates(l_class_1_test)\n",
        "# class_x2, class_y2 = coordinates(l_class_2_test)\n",
        "# class_x3, class_y3 = coordinates(l_class_3_test)\n",
        "\n",
        "# min_x = min([min(class_x1), min(class_x2), min(class_x3)])\n",
        "# max_x = max([max(class_x1), max(class_x2), max(class_x3)])\n",
        "\n",
        "# min_y = min([min(class_y1), min(class_y2), min(class_y3)])\n",
        "# max_y = max([max(class_y1), max(class_y2), max(class_y3)])\n",
        "\n",
        "# xx, yy = np.meshgrid(np.linspace(min_x - 1, max_x + 1 , dpi), np.linspace(min_y - 1, max_y + 1, dpi)) # creates a mesh of points in space \n",
        "# mesh_features_x = np.array([[x, 0] for x in xx.ravel()])\n",
        "# mesh_features_y = np.array([[0, y] for y in yy.ravel()])\n",
        "# mesh_features = mesh_features_x + mesh_features_y\n",
        "z = np.array(classifier_4(mesh_features, mean_set, prior_set, cov_classifier_4))\n",
        "z = z.reshape(xx.shape)"
      ],
      "id": "2e3ea853-d22c-4a82-b1a1-2187dd1095af"
    },
    {
      "cell_type": "code",
      "execution_count": 61,
      "metadata": {
        "colab": {
          "base_uri": "https://localhost:8080/",
          "height": 0
        },
        "id": "2464214c-e517-482e-af5b-ebeca470e50b",
        "outputId": "d7bac055-21cf-4e42-a0cc-9d43c15753b6"
      },
      "outputs": [
        {
          "output_type": "display_data",
          "data": {
            "text/plain": [
              "<Figure size 432x288 with 1 Axes>"
            ],
            "image/png": "[encoded data removed]"
          },
          "metadata": {
            "needs_background": "light"
          }
        }
      ],
      "source": [
        "plt.contourf(xx, yy, z, alpha = alpha, cmap = cmap)\n",
        "plt.scatter(class_x1, class_y1, label = 'Class 1', marker = '+')\n",
        "plt.scatter(class_x2, class_y2, label = 'Class 2', marker = '^')\n",
        "plt.scatter(class_x3, class_y3, label = 'Class 3', marker = '*')\n",
        "plt.title('Decision boundary given by classifier 4')\n",
        "plt.legend()\n",
        "plt.tight_layout(rect = [0, 0, 1, 1])"
      ],
      "id": "2464214c-e517-482e-af5b-ebeca470e50b"
    },
    {
      "cell_type": "markdown",
      "metadata": {
        "id": "e323c87f-e935-44ea-8123-8ed655a6244b"
      },
      "source": [
        "### Performance of classifier\n",
        "Summary of the classifier performance"
      ],
      "id": "e323c87f-e935-44ea-8123-8ed655a6244b"
    },
    {
      "cell_type": "code",
      "execution_count": 62,
      "metadata": {
        "colab": {
          "base_uri": "https://localhost:8080/"
        },
        "id": "0cb97498-2c40-406b-ac66-8b16b0eeadcf",
        "outputId": "caa4a0d1-1f8f-43cd-eafd-a6a54272547b"
      },
      "outputs": [
        {
          "output_type": "stream",
          "name": "stdout",
          "text": [
            "Classifier\t|Acc.\t|Prec.\t|Recall\t|F-score\n",
            "C1\t\t| 0.912\t| 0.913\t| 0.912\t| 0.913\n",
            "C2\t\t| 0.912\t| 0.913\t| 0.912\t| 0.913\n",
            "C3\t\t| 0.916\t| 0.916\t| 0.916\t| 0.916\n",
            "C4\t\t| 0.919\t| 0.919\t| 0.919\t| 0.919\n"
          ]
        }
      ],
      "source": [
        "print('Classifier', 'Acc.', 'Prec.', 'Recall', 'F-score', sep = '\\t|')\n",
        "print('C1\\t', f'{accuracy_classifier_1: .3f}', f'{precision_classifier_1: .3f}', f'{recall_classifier_1: .3f}', f'{f_score_classifier_1: .3f}', sep = '\\t|')\n",
        "print('C2\\t', f'{accuracy_classifier_2: .3f}', f'{precision_classifier_2: .3f}', f'{recall_classifier_2: .3f}', f'{f_score_classifier_2: .3f}', sep = '\\t|')\n",
        "print('C3\\t', f'{accuracy_classifier_3: .3f}', f'{precision_classifier_3: .3f}', f'{recall_classifier_3: .3f}', f'{f_score_classifier_3: .3f}', sep = '\\t|')\n",
        "print('C4\\t', f'{accuracy_classifier_4: .3f}', f'{precision_classifier_4: .3f}', f'{recall_classifier_4: .3f}', f'{f_score_classifier_4: .3f}', sep = '\\t|')"
      ],
      "id": "0cb97498-2c40-406b-ac66-8b16b0eeadcf"
    }
  ],
  "metadata": {
    "colab": {
      "toc_visible": true,
      "provenance": [],
      "collapsed_sections": [
        "17d7ab45-8074-430e-99e2-9ebcc5ef6d40",
        "d5633f0c-c71f-4564-a625-841d92fb748f",
        "74a49c8c-c054-45c6-a107-8151c6e75578",
        "c2ec94ae-2e26-4086-90b6-13d8ceb0222d",
        "cf11ba85-429c-401f-bd3f-d4f55b31f43d"
      ],
      "include_colab_link": true
    },
    "kernelspec": {
      "display_name": "Python 3 (ipykernel)",
      "language": "python",
      "name": "python3"
    },
    "language_info": {
      "codemirror_mode": {
        "name": "ipython",
        "version": 3
      },
      "file_extension": ".py",
      "mimetype": "text/x-python",
      "name": "python",
      "nbconvert_exporter": "python",
      "pygments_lexer": "ipython3",
      "version": "3.10.6"
    }
  },
  "nbformat": 4,
  "nbformat_minor": 5
}